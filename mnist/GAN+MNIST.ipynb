{
  "nbformat": 4,
  "nbformat_minor": 0,
  "metadata": {
    "colab": {
      "name": "GAN+MNIST.ipynb",
      "provenance": []
    },
    "kernelspec": {
      "name": "python3",
      "display_name": "Python 3"
    }
  },
  "cells": [
    {
      "cell_type": "markdown",
      "metadata": {
        "id": "PkVoHiXQyWES",
        "colab_type": "text"
      },
      "source": [
        "# GAN on MNIST\n",
        "Here is a generative adversarial network aka GAN, which gets trained on the MNIST dataset and in the end, the model is capable of producing handwritten digits, looking like the MNIST samples."
      ]
    },
    {
      "cell_type": "code",
      "metadata": {
        "id": "TVKbMYtHPQHU",
        "colab_type": "code",
        "colab": {}
      },
      "source": [
        "import tensorflow as tf\n",
        "import numpy as np\n",
        "import matplotlib.pyplot as plt\n",
        "\n",
        "from tensorflow.keras.layers import Input, Flatten, Dense, Dropout, LeakyReLU\n",
        "from tensorflow.keras.models import Model, Sequential\n",
        "from tensorflow.keras.optimizers import Adam\n",
        "from tensorflow.keras.datasets import mnist"
      ],
      "execution_count": 0,
      "outputs": []
    },
    {
      "cell_type": "markdown",
      "metadata": {
        "id": "raJI4NfEyW5g",
        "colab_type": "text"
      },
      "source": [
        "# Data import and preprocessing"
      ]
    },
    {
      "cell_type": "code",
      "metadata": {
        "id": "Hj0SguEbPjiB",
        "colab_type": "code",
        "colab": {
          "base_uri": "https://localhost:8080/",
          "height": 52
        },
        "outputId": "6d41e429-9811-4e84-dd16-02cea2767fe5"
      },
      "source": [
        "(X_train, y_train), (X_test, y_test) = mnist.load_data()"
      ],
      "execution_count": 5,
      "outputs": [
        {
          "output_type": "stream",
          "text": [
            "Downloading data from https://storage.googleapis.com/tensorflow/tf-keras-datasets/mnist.npz\n",
            "11493376/11490434 [==============================] - 0s 0us/step\n"
          ],
          "name": "stdout"
        }
      ]
    },
    {
      "cell_type": "code",
      "metadata": {
        "id": "sNlBU5W9RtEt",
        "colab_type": "code",
        "colab": {}
      },
      "source": [
        "#normalize and center at 0\n",
        "X_train = X_train / 255.0 * 2 - 1\n",
        "X_test = X_test / 255.0 * 2 - 1"
      ],
      "execution_count": 0,
      "outputs": []
    },
    {
      "cell_type": "code",
      "metadata": {
        "id": "hxyI-w1WYfIe",
        "colab_type": "code",
        "outputId": "50ff3549-cf43-43d8-8559-22d8927faccc",
        "colab": {
          "base_uri": "https://localhost:8080/",
          "height": 34
        }
      },
      "source": [
        "X_train.shape"
      ],
      "execution_count": 7,
      "outputs": [
        {
          "output_type": "execute_result",
          "data": {
            "text/plain": [
              "(60000, 28, 28)"
            ]
          },
          "metadata": {
            "tags": []
          },
          "execution_count": 7
        }
      ]
    },
    {
      "cell_type": "code",
      "metadata": {
        "id": "qBIcs6yoRUXe",
        "colab_type": "code",
        "colab": {}
      },
      "source": [
        "#Number of instances, Height of the image, Weight of the image:\n",
        "N, H, W = X_train.shape\n",
        "# total length of the input image:\n",
        "D = H * W\n",
        "#reshaping the image so that it becomes a 1D array of length H*W\n",
        "X_train = X_train.reshape(-1, D)\n",
        "X_test = X_test.reshape(-1, D)\n",
        "\n",
        "latent_dimention = 200"
      ],
      "execution_count": 0,
      "outputs": []
    },
    {
      "cell_type": "code",
      "metadata": {
        "id": "Nw3qXSdpYiHs",
        "colab_type": "code",
        "outputId": "de0b4623-50f8-48e2-ede6-4cc1a2baf159",
        "colab": {
          "base_uri": "https://localhost:8080/",
          "height": 34
        }
      },
      "source": [
        "X_train.shape"
      ],
      "execution_count": 9,
      "outputs": [
        {
          "output_type": "execute_result",
          "data": {
            "text/plain": [
              "(60000, 784)"
            ]
          },
          "metadata": {
            "tags": []
          },
          "execution_count": 9
        }
      ]
    },
    {
      "cell_type": "markdown",
      "metadata": {
        "id": "hue22VXfzXNT",
        "colab_type": "text"
      },
      "source": [
        "# Creating the model\n",
        "The GAN architecure consists of two main parts:\n",
        "1.  a **discriminator** which is responsible for evaluting an image and clarify if it is a real image, or a meaningless set of pixels.\n",
        "2.  a **generator** which performs the task of creating new images. The input to this model is just noise, and the output is expected to be an image similar to the training dataset.\n",
        "\n",
        "In the process of training, the discriminator evolves to be able to tell real images and fake images apart. In the meantime, the generator must evolve so that it can produce images that can fool the discriminator. "
      ]
    },
    {
      "cell_type": "code",
      "metadata": {
        "id": "PeDsyLCnS4MI",
        "colab_type": "code",
        "colab": {}
      },
      "source": [
        "#discriminator\n",
        "di = Input(D)\n",
        "dx = Dense(256, activation=LeakyReLU(alpha=0.2))(di)\n",
        "dx = Dense(362, activation=LeakyReLU(alpha=0.2))(di)\n",
        "dx = Dense(512, activation=LeakyReLU(alpha=0.2))(dx)\n",
        "dx = Dense(1, activation=\"sigmoid\")(dx)\n",
        "\n",
        "discriminator = Model(di, dx)\n",
        "\n",
        "discriminator.compile(\n",
        "    loss=\"binary_crossentropy\",\n",
        "    optimizer=Adam(0.0002, 0.5),\n",
        "    metrics=[\"accuracy\"]\n",
        ")\n",
        "\n",
        "discriminator.trainable = False "
      ],
      "execution_count": 0,
      "outputs": []
    },
    {
      "cell_type": "code",
      "metadata": {
        "id": "W7afW3UkT42h",
        "colab_type": "code",
        "colab": {}
      },
      "source": [
        "#generator\n",
        "gi = Input(shape=latent_dimention)\n",
        "gx = Dense(256, activation=LeakyReLU(alpha=0.2))(gi)\n",
        "gx = Dense(512, activation=LeakyReLU(alpha=0.2))(gx)\n",
        "gx = Dense(1024, activation=LeakyReLU(alpha=0.2))(gx)\n",
        "gx = Dense(D, activation=\"tanh\")(gx)\n",
        "\n",
        "generator = Model(gi, gx)"
      ],
      "execution_count": 0,
      "outputs": []
    },
    {
      "cell_type": "code",
      "metadata": {
        "id": "u3cAsuRoVlXg",
        "colab_type": "code",
        "colab": {}
      },
      "source": [
        "# here's a mixed model, responsible for improving the generator.\n",
        "z = Input(shape=(latent_dimention,))\n",
        "\n",
        "img = generator(z)\n",
        "\n",
        "fake_pred = discriminator(img)\n",
        "\n",
        "mixed_model =  Model(z, fake_pred)\n",
        "\n",
        "mixed_model.compile(\n",
        "    loss=\"binary_crossentropy\",\n",
        "    optimizer=Adam(0.0002, 0.5)\n",
        ")"
      ],
      "execution_count": 0,
      "outputs": []
    },
    {
      "cell_type": "markdown",
      "metadata": {
        "id": "heF_hkbykrfH",
        "colab_type": "text"
      },
      "source": [
        "# The training phase\n",
        "Here, I iterate for 30000 thousand epochs, with the batch size of 32. These constants have been chosen arbitrarily. In each epoch, the generator creates some fake images. The fake images, and also some true data samples from the mnist dataset, are being fed to the discriminator so that it learns how to distinguish noise from true hand-written digits.\n",
        "\n",
        "There is also a mixed_model which consists of a generator and a discriminator. This is where the generator learns to produce the desired replicates of the digits. "
      ]
    },
    {
      "cell_type": "code",
      "metadata": {
        "id": "SR4it3hWV9PI",
        "colab_type": "code",
        "colab": {}
      },
      "source": [
        "batch_size = 32\n",
        "epochs = 30000\n",
        "ones = np.ones(batch_size)\n",
        "zeros = np.zeros(batch_size)"
      ],
      "execution_count": 0,
      "outputs": []
    },
    {
      "cell_type": "code",
      "metadata": {
        "id": "bDPanV4cW57E",
        "colab_type": "code",
        "colab": {}
      },
      "source": [
        "for epoch in range(epochs):\n",
        "  idx = np.random.randint(0, X_train.shape[0], batch_size)\n",
        "  real_images = X_train[idx]\n",
        "\n",
        "  noise = np.random.randn(batch_size, latent_dimention)\n",
        "  fake_images = generator.predict(noise)\n",
        "\n",
        "  discriminator.train_on_batch(real_images, ones)\n",
        "  discriminator.train_on_batch(fake_images, zeros)\n",
        "\n",
        "\n",
        "  noise = np.random.randn(batch_size, latent_dimention)\n",
        "  mixed_model.train_on_batch(noise, ones)\n",
        "\n",
        "  print(epoch)"
      ],
      "execution_count": 0,
      "outputs": []
    },
    {
      "cell_type": "markdown",
      "metadata": {
        "id": "qYgxpdZY14xj",
        "colab_type": "text"
      },
      "source": [
        "For the sake of a good looking notebook, I have ommited the output of the above cell. It simply prints the epoch number to give you a sense of progress. Later I would probably add a more meaningful progess report."
      ]
    },
    {
      "cell_type": "markdown",
      "metadata": {
        "id": "tot1rboGxdlB",
        "colab_type": "text"
      },
      "source": [
        "# How good is the generator now?"
      ]
    },
    {
      "cell_type": "code",
      "metadata": {
        "id": "Ku6gf1eLXaad",
        "colab_type": "code",
        "outputId": "ca044cbd-c96c-489c-9cb4-5593aa4d4b25",
        "colab": {
          "base_uri": "https://localhost:8080/",
          "height": 34
        }
      },
      "source": [
        "noise = np.random.randn(10, latent_dimention)\n",
        "noise.shape"
      ],
      "execution_count": 17,
      "outputs": [
        {
          "output_type": "execute_result",
          "data": {
            "text/plain": [
              "(10, 200)"
            ]
          },
          "metadata": {
            "tags": []
          },
          "execution_count": 17
        }
      ]
    },
    {
      "cell_type": "code",
      "metadata": {
        "id": "J-tqzAEvcS_4",
        "colab_type": "code",
        "colab": {}
      },
      "source": [
        "preds = generator.predict(noise)"
      ],
      "execution_count": 0,
      "outputs": []
    },
    {
      "cell_type": "code",
      "metadata": {
        "id": "kUIkrnVzcXDY",
        "colab_type": "code",
        "outputId": "a1be1150-0931-4e1a-d8be-24e767adb8b3",
        "colab": {
          "base_uri": "https://localhost:8080/",
          "height": 34
        }
      },
      "source": [
        "preds.shape"
      ],
      "execution_count": 22,
      "outputs": [
        {
          "output_type": "execute_result",
          "data": {
            "text/plain": [
              "(10, 784)"
            ]
          },
          "metadata": {
            "tags": []
          },
          "execution_count": 22
        }
      ]
    },
    {
      "cell_type": "code",
      "metadata": {
        "id": "cJ4sTueJccOk",
        "colab_type": "code",
        "outputId": "853eb63c-7188-4f13-9a09-255f003b7c9b",
        "colab": {
          "base_uri": "https://localhost:8080/",
          "height": 282
        }
      },
      "source": [
        "plt.imshow(preds[3].reshape(28, 28), cmap=\"gray\")"
      ],
      "execution_count": 26,
      "outputs": [
        {
          "output_type": "execute_result",
          "data": {
            "text/plain": [
              "<matplotlib.image.AxesImage at 0x7f6df4481080>"
            ]
          },
          "metadata": {
            "tags": []
          },
          "execution_count": 26
        },
        {
          "output_type": "display_data",
          "data": {
            "image/png": "[encoded data removed]",
            "text/plain": [
              "<Figure size 432x288 with 1 Axes>"
            ]
          },
          "metadata": {
            "tags": [],
            "needs_background": "light"
          }
        }
      ]
    },
    {
      "cell_type": "markdown",
      "metadata": {
        "id": "8ZZZ2CFevfpM",
        "colab_type": "text"
      },
      "source": [
        "# What's next?\n",
        "\n",
        "This example seems acceptable, but there were a few not-so-much-like-a-number cases in the predictions. I think the next steps would be:\n",
        "-  trying more layers for both generator and discriminator\n",
        "-  trying some convolution layers\n",
        "-  trying it on fashion-mnist dataset\n",
        "-  tracking the loss through to train process. \n",
        "\n",
        "and also,  the LeakyRelu activation was just a suggestion from some StackOverflow post and I honestly don't know why it works. The regular relu wasn't producing satisfying results.\n",
        "\n",
        "Furthermore, I'm curious to see if I can make it a bit more interactive, so that the generator gets the desired number as input and tries to reproduce it. At the moment I'm not sure it's possible, at least with these not-so-deep models. Let's see what happens :)"
      ]
    },
    {
      "cell_type": "code",
      "metadata": {
        "id": "-Y2VTz07m70u",
        "colab_type": "code",
        "colab": {}
      },
      "source": [
        ""
      ],
      "execution_count": 0,
      "outputs": []
    }
  ]
}